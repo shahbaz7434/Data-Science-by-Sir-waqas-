{
 "cells": [
  {
   "cell_type": "code",
   "execution_count": 41,
   "metadata": {},
   "outputs": [],
   "source": [
    "from csv import reader \n",
    "hn = list(reader(open(\"hacker_news.csv\", encoding = \"utf-8\")))  # trace, open, read, convert into list"
   ]
  },
  {
   "cell_type": "code",
   "execution_count": 42,
   "metadata": {},
   "outputs": [],
   "source": [
    "Header = hn[0]  # separation of header \n",
    "hn =hn[1:]\n"
   ]
  },
  {
   "cell_type": "code",
   "execution_count": 43,
   "metadata": {},
   "outputs": [
    {
     "data": {
      "text/plain": [
       "['id', 'title', 'url', 'num_points', 'num_comments', 'author', 'created_at']"
      ]
     },
     "execution_count": 43,
     "metadata": {},
     "output_type": "execute_result"
    }
   ],
   "source": [
    "Header"
   ]
  },
  {
   "cell_type": "code",
   "execution_count": 6,
   "metadata": {},
   "outputs": [
    {
     "data": {
      "text/plain": [
       "['10610020',\n",
       " 'Ask HN: Am I the only one outraged by Twitter shutting down share counts?',\n",
       " '',\n",
       " '28',\n",
       " '29',\n",
       " 'tkfx',\n",
       " '11/22/2015 13:43']"
      ]
     },
     "execution_count": 6,
     "metadata": {},
     "output_type": "execute_result"
    }
   ],
   "source": [
    "hn[17]"
   ]
  },
  {
   "cell_type": "markdown",
   "metadata": {},
   "source": [
    "# problem is to find out the avg  comments b/w  show hn and ask hn "
   ]
  },
  {
   "cell_type": "code",
   "execution_count": 7,
   "metadata": {},
   "outputs": [],
   "source": [
    "ask_hn = []\n",
    "show_hn = []\n",
    "others = []\n",
    "\n",
    "\n",
    "\n",
    "for i in hn:        # separting requirment variables of problem \n",
    "    title = i[1]\n",
    "    comments = float(i[-3])\n",
    "    if title.lower().startswith(\"ask hn\"):\n",
    "        ask_hn.append(comments)\n",
    "    elif title.lower().startswith(\"show hn\"):\n",
    "        show_hn.append(comments)\n",
    "    else:\n",
    "        others.append(comments)\n",
    "        \n",
    "        \n",
    "    \n",
    "    \n",
    "    "
   ]
  },
  {
   "cell_type": "code",
   "execution_count": 8,
   "metadata": {},
   "outputs": [],
   "source": [
    "avg_ask_hn = sum(ask_hn)/len(ask_hn)\n",
    "avg_show_hn = sum(show_hn)/len(show_hn)"
   ]
  },
  {
   "cell_type": "code",
   "execution_count": 9,
   "metadata": {},
   "outputs": [
    {
     "name": "stdout",
     "output_type": "stream",
     "text": [
      "14.038417431192661 10.31669535283993\n"
     ]
    }
   ],
   "source": [
    "print(avg_ask_hn,avg_show_hn) # avg of ask_ hn's comment is greater then show_hn "
   ]
  },
  {
   "cell_type": "code",
   "execution_count": 10,
   "metadata": {},
   "outputs": [
    {
     "data": {
      "text/plain": [
       "True"
      ]
     },
     "execution_count": 10,
     "metadata": {},
     "output_type": "execute_result"
    }
   ],
   "source": [
    "avg_ask_hn>avg_show_hn   # here it is proved that ask_hn has more comments on an average than show_hn "
   ]
  },
  {
   "cell_type": "markdown",
   "metadata": {},
   "source": [
    "# Now we need to find at what time of hour questions has been asked on Hacker news website "
   ]
  },
  {
   "cell_type": "code",
   "execution_count": 11,
   "metadata": {},
   "outputs": [
    {
     "data": {
      "text/plain": [
       "1744"
      ]
     },
     "execution_count": 11,
     "metadata": {},
     "output_type": "execute_result"
    }
   ],
   "source": [
    "ask_hn_data = []     # we separated the ask_hn_data because we will just work on it \n",
    "\n",
    "\n",
    "for i in hn:\n",
    "    title = i[1]\n",
    "    if title.lower().startswith(\"ask hn\"):\n",
    "        ask_hn_data.append(i)\n",
    "        \n",
    "len(ask_hn_data)"
   ]
  },
  {
   "cell_type": "code",
   "execution_count": 12,
   "metadata": {},
   "outputs": [
    {
     "data": {
      "text/plain": [
       "'%m/%d/%Y %H:%M'"
      ]
     },
     "execution_count": 12,
     "metadata": {},
     "output_type": "execute_result"
    }
   ],
   "source": [
    "import datetime as dt  \n",
    "date_format= \"%m/%d/%Y %H:%M\"                   #'11/22/2015 13:43'\n",
    "date_format"
   ]
  },
  {
   "cell_type": "code",
   "execution_count": 13,
   "metadata": {},
   "outputs": [],
   "source": [
    "hr_com = {}     #number of comments \n",
    "hr_post  = {}   #number of posts\n",
    "\n",
    "\n",
    "for i in ask_hn_data:\n",
    "    date = i[-1]               # need to find out the hours of ask hn  \n",
    "    comments = float(i[-3])\n",
    "    date = dt.datetime.strptime(date,date_format)\n",
    "    hours = date.strftime(\"%H\")\n",
    "    if hours not in hr_com:\n",
    "        hr_com[hours] =  comments\n",
    "        hr_post[hours] =  1\n",
    "    elif hours in hr_com:\n",
    "        hr_com[hours] +=  comments\n",
    "        hr_post[hours] +=  1\n",
    "    "
   ]
  },
  {
   "cell_type": "code",
   "execution_count": 16,
   "metadata": {
    "scrolled": true
   },
   "outputs": [
    {
     "name": "stdout",
     "output_type": "stream",
     "text": [
      "{'09': 251.0, '13': 1253.0, '10': 793.0, '14': 1416.0, '16': 1814.0, '23': 543.0, '12': 687.0, '17': 1146.0, '15': 4477.0, '21': 1745.0, '20': 1722.0, '02': 1381.0, '18': 1439.0, '03': 421.0, '05': 464.0, '19': 1188.0, '01': 683.0, '22': 479.0, '08': 492.0, '04': 337.0, '00': 447.0, '06': 397.0, '07': 267.0, '11': 641.0}\n"
     ]
    }
   ],
   "source": [
    "print(hr_com)"
   ]
  },
  {
   "cell_type": "code",
   "execution_count": 17,
   "metadata": {},
   "outputs": [
    {
     "name": "stdout",
     "output_type": "stream",
     "text": [
      "{'09': 45, '13': 85, '10': 59, '14': 107, '16': 108, '23': 68, '12': 73, '17': 100, '15': 116, '21': 109, '20': 80, '02': 58, '18': 109, '03': 54, '05': 46, '19': 110, '01': 60, '22': 71, '08': 48, '04': 47, '00': 55, '06': 44, '07': 34, '11': 58}\n"
     ]
    }
   ],
   "source": [
    "print(hr_post)"
   ]
  },
  {
   "cell_type": "code",
   "execution_count": 26,
   "metadata": {},
   "outputs": [],
   "source": [
    "avg_com_hr = {}\n",
    "\n",
    "for i in hr_com and hr_post:\n",
    "    comments = hr_com[i]\n",
    "    posts = hr_post[i]\n",
    "    avg = comments/posts\n",
    "    avg_com_hr[i] = avg\n",
    "    \n",
    "\n",
    "    \n",
    "    "
   ]
  },
  {
   "cell_type": "code",
   "execution_count": 27,
   "metadata": {},
   "outputs": [
    {
     "data": {
      "text/plain": [
       "{'09': 5.5777777777777775,\n",
       " '13': 14.741176470588234,\n",
       " '10': 13.440677966101696,\n",
       " '14': 13.233644859813085,\n",
       " '16': 16.796296296296298,\n",
       " '23': 7.985294117647059,\n",
       " '12': 9.41095890410959,\n",
       " '17': 11.46,\n",
       " '15': 38.5948275862069,\n",
       " '21': 16.009174311926607,\n",
       " '20': 21.525,\n",
       " '02': 23.810344827586206,\n",
       " '18': 13.20183486238532,\n",
       " '03': 7.796296296296297,\n",
       " '05': 10.08695652173913,\n",
       " '19': 10.8,\n",
       " '01': 11.383333333333333,\n",
       " '22': 6.746478873239437,\n",
       " '08': 10.25,\n",
       " '04': 7.170212765957447,\n",
       " '00': 8.127272727272727,\n",
       " '06': 9.022727272727273,\n",
       " '07': 7.852941176470588,\n",
       " '11': 11.051724137931034}"
      ]
     },
     "execution_count": 27,
     "metadata": {},
     "output_type": "execute_result"
    }
   ],
   "source": [
    "avg_com_hr"
   ]
  },
  {
   "cell_type": "code",
   "execution_count": 35,
   "metadata": {},
   "outputs": [],
   "source": [
    "max_key = max(avg_com_hr, key = avg_com_hr.get) # when you also need the maximum value of dic"
   ]
  },
  {
   "cell_type": "code",
   "execution_count": 36,
   "metadata": {},
   "outputs": [
    {
     "data": {
      "text/plain": [
       "'15'"
      ]
     },
     "execution_count": 36,
     "metadata": {},
     "output_type": "execute_result"
    }
   ],
   "source": [
    "max_key"
   ]
  },
  {
   "cell_type": "code",
   "execution_count": 39,
   "metadata": {},
   "outputs": [],
   "source": [
    "max_comment = avg_com_hr[\"15\"]"
   ]
  },
  {
   "cell_type": "code",
   "execution_count": 40,
   "metadata": {},
   "outputs": [
    {
     "name": "stdout",
     "output_type": "stream",
     "text": [
      "15 38.5948275862069\n"
     ]
    }
   ],
   "source": [
    "print(max_key, max_comment) # here we can say that at 15 (3 PM USA time or 5 AM pakistani time \n",
    "                             #you will get maximum number of comments  on each post "
   ]
  },
  {
   "cell_type": "markdown",
   "metadata": {},
   "source": [
    "# PROBLEM: At what time of hour people comments on \"shows posts category\" on hacker news website. "
   ]
  },
  {
   "cell_type": "code",
   "execution_count": 103,
   "metadata": {},
   "outputs": [],
   "source": [
    "#print(show_hn) # here i have just  comments of show_hn "
   ]
  },
  {
   "cell_type": "code",
   "execution_count": 47,
   "metadata": {},
   "outputs": [
    {
     "data": {
      "text/plain": [
       "1162"
      ]
     },
     "execution_count": 47,
     "metadata": {},
     "output_type": "execute_result"
    }
   ],
   "source": [
    "show_hn_data = []     # we separated the ask_hn_data completely because we will just work on it \n",
    "\n",
    "\n",
    "for i in hn:\n",
    "    title = i[1]\n",
    "    if title.lower().startswith(\"show hn\"):\n",
    "        show_hn_data.append(i)\n",
    "        \n",
    "len(show_hn_data)"
   ]
  },
  {
   "cell_type": "code",
   "execution_count": 57,
   "metadata": {},
   "outputs": [
    {
     "name": "stdout",
     "output_type": "stream",
     "text": [
      "['10461525', 'Show HN: Natural Language Time Zone Converter', 'https://slashtz.com', '8', '3', 'hpoydar', '10/27/2015 22:08']\n"
     ]
    }
   ],
   "source": [
    "print(show_hn_data[15])"
   ]
  },
  {
   "cell_type": "code",
   "execution_count": 58,
   "metadata": {},
   "outputs": [
    {
     "data": {
      "text/plain": [
       "'%m/%d/%Y %H:%M'"
      ]
     },
     "execution_count": 58,
     "metadata": {},
     "output_type": "execute_result"
    }
   ],
   "source": [
    "import datetime as dt \n",
    "dateformate = \"%m/%d/%Y %H:%M\"   #'2/19/2016 15:34'\n",
    "dateformate"
   ]
  },
  {
   "cell_type": "code",
   "execution_count": 66,
   "metadata": {},
   "outputs": [],
   "source": [
    "hr_com  = {}  # number of comments on each post against hour \n",
    "hr_post = {}  # number of posts against hour in a day \n",
    "\n",
    "\n",
    "for i in show_hn_data:\n",
    "    comments = float(i[-3])\n",
    "    date = i[-1]\n",
    "    date = dt.datetime.strptime(date,dateformate)\n",
    "    Hour = date.strftime(\"%H\")\n",
    "    if Hour not in hr_com:\n",
    "        hr_com[Hour] = comments\n",
    "        hr_post[Hour] = 1\n",
    "    elif Hour in hr_com:\n",
    "        hr_com[Hour] += comments \n",
    "        hr_post[Hour] += 1"
   ]
  },
  {
   "cell_type": "code",
   "execution_count": 68,
   "metadata": {},
   "outputs": [
    {
     "name": "stdout",
     "output_type": "stream",
     "text": [
      "{'14': 1156.0, '22': 570.0, '18': 962.0, '07': 299.0, '20': 612.0, '05': 58.0, '16': 1084.0, '19': 539.0, '15': 632.0, '03': 287.0, '17': 911.0, '06': 142.0, '02': 127.0, '13': 946.0, '08': 165.0, '21': 272.0, '04': 247.0, '11': 491.0, '12': 720.0, '23': 447.0, '09': 291.0, '01': 246.0, '10': 297.0, '00': 487.0}\n"
     ]
    }
   ],
   "source": [
    "print(hr_com)"
   ]
  },
  {
   "cell_type": "code",
   "execution_count": 69,
   "metadata": {},
   "outputs": [
    {
     "name": "stdout",
     "output_type": "stream",
     "text": [
      "{'14': 86, '22': 46, '18': 61, '07': 26, '20': 60, '05': 19, '16': 93, '19': 55, '15': 78, '03': 27, '17': 93, '06': 16, '02': 30, '13': 99, '08': 34, '21': 47, '04': 26, '11': 44, '12': 61, '23': 36, '09': 30, '01': 28, '10': 36, '00': 31}\n"
     ]
    }
   ],
   "source": [
    "print(hr_post)"
   ]
  },
  {
   "cell_type": "code",
   "execution_count": 74,
   "metadata": {},
   "outputs": [],
   "source": [
    "avg_com_hr_show_hn = {}\n",
    "\n",
    "\n",
    "\n",
    "for i in hr_com and hr_post:\n",
    "    com = hr_com[i]\n",
    "    posts = hr_post[i]\n",
    "    avg = com/posts \n",
    "    avg_com_hr_show_hn[i] = avg\n",
    "    \n",
    "    "
   ]
  },
  {
   "cell_type": "code",
   "execution_count": 101,
   "metadata": {},
   "outputs": [
    {
     "name": "stdout",
     "output_type": "stream",
     "text": [
      "{'14': 13.44186046511628, '22': 12.391304347826088, '18': 15.770491803278688, '07': 11.5, '20': 10.2, '05': 3.0526315789473686, '16': 11.655913978494624, '19': 9.8, '15': 8.102564102564102, '03': 10.62962962962963, '17': 9.795698924731182, '06': 8.875, '02': 4.233333333333333, '13': 9.555555555555555, '08': 4.852941176470588, '21': 5.787234042553192, '04': 9.5, '11': 11.159090909090908, '12': 11.80327868852459, '23': 12.416666666666666, '09': 9.7, '01': 8.785714285714286, '10': 8.25, '00': 15.709677419354838}\n"
     ]
    }
   ],
   "source": [
    "print(avg_com_hr_show_hn)"
   ]
  },
  {
   "cell_type": "code",
   "execution_count": 98,
   "metadata": {},
   "outputs": [
    {
     "data": {
      "text/plain": [
       "'18'"
      ]
     },
     "execution_count": 98,
     "metadata": {},
     "output_type": "execute_result"
    }
   ],
   "source": [
    "max_key = max(avg_com_hr_show_hn, key =avg_com_hr_show_hn.get)\n",
    "max_key"
   ]
  },
  {
   "cell_type": "code",
   "execution_count": 99,
   "metadata": {},
   "outputs": [
    {
     "data": {
      "text/plain": [
       "15.770491803278688"
      ]
     },
     "execution_count": 99,
     "metadata": {},
     "output_type": "execute_result"
    }
   ],
   "source": [
    "max_value = avg_com_hr_show_hn[max_key]\n",
    "max_value"
   ]
  },
  {
   "cell_type": "code",
   "execution_count": 100,
   "metadata": {},
   "outputs": [
    {
     "name": "stdout",
     "output_type": "stream",
     "text": [
      "18 15.770491803278688\n"
     ]
    }
   ],
   "source": [
    "print(max_key,max_value)"
   ]
  },
  {
   "cell_type": "markdown",
   "metadata": {},
   "source": [
    "# Conclusion:\n",
    "    we concluded that at \"18\" i.e (\"6 PM\" of USA Time Zone) or 3 AM of Pakistani time, \n",
    "    we will get maxmimum comments on show_hn posts "
   ]
  },
  {
   "cell_type": "code",
   "execution_count": null,
   "metadata": {},
   "outputs": [],
   "source": []
  }
 ],
 "metadata": {
  "kernelspec": {
   "display_name": "Python 3",
   "language": "python",
   "name": "python3"
  },
  "language_info": {
   "codemirror_mode": {
    "name": "ipython",
    "version": 3
   },
   "file_extension": ".py",
   "mimetype": "text/x-python",
   "name": "python",
   "nbconvert_exporter": "python",
   "pygments_lexer": "ipython3",
   "version": "3.7.6"
  }
 },
 "nbformat": 4,
 "nbformat_minor": 4
}
